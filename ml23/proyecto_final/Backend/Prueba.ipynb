{
 "cells": [
  {
   "cell_type": "code",
   "execution_count": null,
   "metadata": {},
   "outputs": [],
   "source": [
    "import torch\n",
    "import torchvision\n",
    "import torchvision.transforms as transforms"
   ]
  },
  {
   "cell_type": "code",
   "execution_count": null,
   "metadata": {},
   "outputs": [],
   "source": [
    "if torch.cuda.is_available(): \n",
    " print(\"cuda\") \n",
    "else: \n",
    " print(\"cpu\") "
   ]
  },
  {
   "cell_type": "code",
   "execution_count": 9,
   "metadata": {},
   "outputs": [
    {
     "ename": "OSError",
     "evalue": "[Errno 24] Too many open files: './data/Dataset\\\\s0001_00001_0_0_0_0_0_01.png'",
     "output_type": "error",
     "traceback": [
      "\u001b[1;31m---------------------------------------------------------------------------\u001b[0m",
      "\u001b[1;31mOSError\u001b[0m                                   Traceback (most recent call last)",
      "\u001b[1;32mc:\\Users\\dahir\\OneDrive\\Documentos\\GPT-5\\Final\\ML23_GPT5\\ml23\\proyecto_final\\Backend\\Prueba.ipynb Cell 3\u001b[0m line \u001b[0;36m2\n\u001b[0;32m     <a href='vscode-notebook-cell:/c%3A/Users/dahir/OneDrive/Documentos/GPT-5/Final/ML23_GPT5/ml23/proyecto_final/Backend/Prueba.ipynb#W2sZmlsZQ%3D%3D?line=18'>19</a>\u001b[0m                 data\u001b[39m.\u001b[39mappend({\u001b[39m'\u001b[39m\u001b[39mimage\u001b[39m\u001b[39m'\u001b[39m: img, \u001b[39m'\u001b[39m\u001b[39mlabel\u001b[39m\u001b[39m'\u001b[39m: label, \u001b[39m'\u001b[39m\u001b[39mpath\u001b[39m\u001b[39m'\u001b[39m: image_path})\n\u001b[0;32m     <a href='vscode-notebook-cell:/c%3A/Users/dahir/OneDrive/Documentos/GPT-5/Final/ML23_GPT5/ml23/proyecto_final/Backend/Prueba.ipynb#W2sZmlsZQ%3D%3D?line=19'>20</a>\u001b[0m     \u001b[39mreturn\u001b[39;00m data\n\u001b[1;32m---> <a href='vscode-notebook-cell:/c%3A/Users/dahir/OneDrive/Documentos/GPT-5/Final/ML23_GPT5/ml23/proyecto_final/Backend/Prueba.ipynb#W2sZmlsZQ%3D%3D?line=21'>22</a>\u001b[0m dataset \u001b[39m=\u001b[39m create_data_logger(dataset_dir)\n\u001b[0;32m     <a href='vscode-notebook-cell:/c%3A/Users/dahir/OneDrive/Documentos/GPT-5/Final/ML23_GPT5/ml23/proyecto_final/Backend/Prueba.ipynb#W2sZmlsZQ%3D%3D?line=22'>23</a>\u001b[0m \u001b[39mprint\u001b[39m(\u001b[39m\"\u001b[39m\u001b[39mimg\u001b[39m\u001b[39m\"\u001b[39m)\n\u001b[0;32m     <a href='vscode-notebook-cell:/c%3A/Users/dahir/OneDrive/Documentos/GPT-5/Final/ML23_GPT5/ml23/proyecto_final/Backend/Prueba.ipynb#W2sZmlsZQ%3D%3D?line=23'>24</a>\u001b[0m display(dataset[\u001b[39m0\u001b[39m][\u001b[39m'\u001b[39m\u001b[39mimage\u001b[39m\u001b[39m'\u001b[39m])\n",
      "\u001b[1;32mc:\\Users\\dahir\\OneDrive\\Documentos\\GPT-5\\Final\\ML23_GPT5\\ml23\\proyecto_final\\Backend\\Prueba.ipynb Cell 3\u001b[0m line \u001b[0;36m1\n\u001b[0;32m     <a href='vscode-notebook-cell:/c%3A/Users/dahir/OneDrive/Documentos/GPT-5/Final/ML23_GPT5/ml23/proyecto_final/Backend/Prueba.ipynb#W2sZmlsZQ%3D%3D?line=15'>16</a>\u001b[0m             image_path \u001b[39m=\u001b[39m os\u001b[39m.\u001b[39mpath\u001b[39m.\u001b[39mjoin(root, file)\n\u001b[0;32m     <a href='vscode-notebook-cell:/c%3A/Users/dahir/OneDrive/Documentos/GPT-5/Final/ML23_GPT5/ml23/proyecto_final/Backend/Prueba.ipynb#W2sZmlsZQ%3D%3D?line=16'>17</a>\u001b[0m             label \u001b[39m=\u001b[39m os\u001b[39m.\u001b[39mpath\u001b[39m.\u001b[39mbasename(file)[\u001b[39m16\u001b[39m]\n\u001b[1;32m---> <a href='vscode-notebook-cell:/c%3A/Users/dahir/OneDrive/Documentos/GPT-5/Final/ML23_GPT5/ml23/proyecto_final/Backend/Prueba.ipynb#W2sZmlsZQ%3D%3D?line=17'>18</a>\u001b[0m             img \u001b[39m=\u001b[39m process_image(image_path)\n\u001b[0;32m     <a href='vscode-notebook-cell:/c%3A/Users/dahir/OneDrive/Documentos/GPT-5/Final/ML23_GPT5/ml23/proyecto_final/Backend/Prueba.ipynb#W2sZmlsZQ%3D%3D?line=18'>19</a>\u001b[0m             data\u001b[39m.\u001b[39mappend({\u001b[39m'\u001b[39m\u001b[39mimage\u001b[39m\u001b[39m'\u001b[39m: img, \u001b[39m'\u001b[39m\u001b[39mlabel\u001b[39m\u001b[39m'\u001b[39m: label, \u001b[39m'\u001b[39m\u001b[39mpath\u001b[39m\u001b[39m'\u001b[39m: image_path})\n\u001b[0;32m     <a href='vscode-notebook-cell:/c%3A/Users/dahir/OneDrive/Documentos/GPT-5/Final/ML23_GPT5/ml23/proyecto_final/Backend/Prueba.ipynb#W2sZmlsZQ%3D%3D?line=19'>20</a>\u001b[0m \u001b[39mreturn\u001b[39;00m data\n",
      "\u001b[1;32mc:\\Users\\dahir\\OneDrive\\Documentos\\GPT-5\\Final\\ML23_GPT5\\ml23\\proyecto_final\\Backend\\Prueba.ipynb Cell 3\u001b[0m line \u001b[0;36m8\n\u001b[0;32m      <a href='vscode-notebook-cell:/c%3A/Users/dahir/OneDrive/Documentos/GPT-5/Final/ML23_GPT5/ml23/proyecto_final/Backend/Prueba.ipynb#W2sZmlsZQ%3D%3D?line=6'>7</a>\u001b[0m \u001b[39mdef\u001b[39;00m \u001b[39mprocess_image\u001b[39m(image_path):\n\u001b[1;32m----> <a href='vscode-notebook-cell:/c%3A/Users/dahir/OneDrive/Documentos/GPT-5/Final/ML23_GPT5/ml23/proyecto_final/Backend/Prueba.ipynb#W2sZmlsZQ%3D%3D?line=7'>8</a>\u001b[0m     img \u001b[39m=\u001b[39m Image\u001b[39m.\u001b[39;49mopen(image_path)\n\u001b[0;32m      <a href='vscode-notebook-cell:/c%3A/Users/dahir/OneDrive/Documentos/GPT-5/Final/ML23_GPT5/ml23/proyecto_final/Backend/Prueba.ipynb#W2sZmlsZQ%3D%3D?line=8'>9</a>\u001b[0m     \u001b[39mreturn\u001b[39;00m img\n",
      "File \u001b[1;32mc:\\Users\\dahir\\anaconda3\\envs\\ml_env\\lib\\site-packages\\PIL\\Image.py:3218\u001b[0m, in \u001b[0;36mopen\u001b[1;34m(fp, mode, formats)\u001b[0m\n",
      "\u001b[1;31mOSError\u001b[0m: [Errno 24] Too many open files: './data/Dataset\\\\s0001_00001_0_0_0_0_0_01.png'"
     ]
    }
   ],
   "source": [
    "import os\n",
    "from PIL import Image\n",
    "from IPython.display import display\n",
    "\n",
    "dataset_dir = './data/Dataset'\n",
    "\n",
    "def process_image(image_path):\n",
    "    img = Image.open(image_path)\n",
    "    return img\n",
    "\n",
    "def create_data_logger(dataset_dir):\n",
    "    data = []\n",
    "    for root, dirs, files in os.walk(dataset_dir):\n",
    "        for file in files:\n",
    "            if file.endswith('.png'):\n",
    "                image_path = os.path.join(root, file)\n",
    "                label = os.path.basename(file)[16]\n",
    "                img = process_image(image_path)\n",
    "                data.append({'image': img, 'label': label, 'path': image_path})\n",
    "    return data\n",
    "\n",
    "dataset = create_data_logger(dataset_dir)\n",
    "print(\"img\")\n",
    "display(dataset[0]['image'])\n",
    "print(\"label\")\n",
    "print(dataset[0]['label'])\n"
   ]
  }
 ],
 "metadata": {
  "kernelspec": {
   "display_name": "ml_env",
   "language": "python",
   "name": "python3"
  },
  "language_info": {
   "codemirror_mode": {
    "name": "ipython",
    "version": 3
   },
   "file_extension": ".py",
   "mimetype": "text/x-python",
   "name": "python",
   "nbconvert_exporter": "python",
   "pygments_lexer": "ipython3",
   "version": "3.8.17"
  }
 },
 "nbformat": 4,
 "nbformat_minor": 2
}
